{
 "cells": [
  {
   "cell_type": "code",
   "execution_count": 2,
   "id": "4d0c78f6",
   "metadata": {},
   "outputs": [],
   "source": [
    "import requests\n",
    "from typing import Dict, List, Optional\n",
    "import getpass\n",
    "\n",
    "class PocketBaseClient:\n",
    "    def __init__(self, base_url: str):\n",
    "        \"\"\"\n",
    "        Initialize PocketBase client with base URL\n",
    "        \n",
    "        Args:\n",
    "            base_url (str): Base URL of the PocketBase instance\n",
    "        \"\"\"\n",
    "        self.base_url = base_url.rstrip('/')\n",
    "        self.token = None\n",
    "        self.auth_record = None\n",
    "    \n",
    "    def authenticate(self, identity: Optional[str] = None, password: Optional[str] = None) -> Dict:\n",
    "        \"\"\"\n",
    "        Authenticate user with PocketBase\n",
    "        \n",
    "        Args:\n",
    "            identity (str, optional): Username or email\n",
    "            password (str, optional): Password\n",
    "            \n",
    "        Returns:\n",
    "            Dict: Authentication response including token and record\n",
    "        \"\"\"\n",
    "        if identity is None:\n",
    "            identity = input(\"Enter username or email: \")\n",
    "        if password is None:\n",
    "            password = getpass.getpass(\"Enter password: \")\n",
    "            \n",
    "        url = f\"{self.base_url}/api/admins/auth-with-password\"\n",
    "        data = {\n",
    "            \"identity\": identity,\n",
    "            \"password\": password\n",
    "        }\n",
    "        \n",
    "        try:\n",
    "            response = requests.post(url, json=data)\n",
    "            response.raise_for_status()\n",
    "            \n",
    "            auth_data = response.json()\n",
    "            self.token = auth_data['token']\n",
    "            \n",
    "            return auth_data\n",
    "            \n",
    "        except requests.exceptions.RequestException as e:\n",
    "            print(f\"Authentication failed: {str(e)}\")\n",
    "            if hasattr(e.response, 'json'):\n",
    "                print(f\"Error details: {e.response.json()}\")\n",
    "            raise\n",
    "    \n",
    "    def fetch_records(self, filter_query: str, per_page: int = 100) -> List[Dict]:\n",
    "        \"\"\"\n",
    "        Fetch all records matching the filter query\n",
    "        \n",
    "        Args:\n",
    "            filter_query (str): Filter query string\n",
    "            per_page (int): Number of records per page\n",
    "            \n",
    "        Returns:\n",
    "            List[Dict]: List of matching records\n",
    "        \"\"\"\n",
    "        if not self.token:\n",
    "            raise ValueError(\"Not authenticated. Call authenticate() first.\")\n",
    "            \n",
    "        headers = {\n",
    "            \"Authorization\": self.token\n",
    "        }\n",
    "        \n",
    "        url = f\"{self.base_url}/api/collections/track_items/records\"\n",
    "        \n",
    "        all_records = []\n",
    "        page = 1\n",
    "        \n",
    "        while True:\n",
    "            params = {\n",
    "                \"page\": page,\n",
    "                \"perPage\": per_page,\n",
    "                \"filter\": filter_query,\n",
    "                \"skipTotal\": True\n",
    "            }\n",
    "            \n",
    "            try:\n",
    "                response = requests.get(url, headers=headers, params=params)\n",
    "                response.raise_for_status()\n",
    "                \n",
    "                data = response.json()\n",
    "                records = data.get('items', [])\n",
    "                \n",
    "                if not records:\n",
    "                    break\n",
    "                    \n",
    "                all_records.extend(records)\n",
    "                page += 1\n",
    "                \n",
    "            except requests.exceptions.RequestException as e:\n",
    "                print(f\"Error fetching records: {str(e)}\")\n",
    "                if hasattr(e.response, 'json'):\n",
    "                    print(f\"Error details: {e.response.json()}\")\n",
    "                raise\n",
    "                \n",
    "        return all_records"
   ]
  },
  {
   "cell_type": "code",
   "execution_count": 28,
   "id": "92734c83",
   "metadata": {},
   "outputs": [],
   "source": [
    "FILTER_QUERY = \"\"\"(app = \"Arc\" || app = \"Zen Browser\" || app = \"Code\" || app = \"iTerm2\") && begin_date < \"2024-08-19\" && begin_date > \"2024-08-05\" && (title ~ \"Jupyter\" || title ~ \"stratz\" || title ~ \"shashank-sharma.github.io\" || title ~ \"dashboard\" || title ~ \"metadata\" || title ~ \"tmux\")\"\"\""
   ]
  },
  {
   "cell_type": "code",
   "execution_count": 4,
   "id": "e2348ef1",
   "metadata": {},
   "outputs": [
    {
     "name": "stdout",
     "output_type": "stream",
     "text": [
      "Enter username or email: test@gmail.com\n",
      "Enter password: ········\n",
      "Authentication successful!\n"
     ]
    }
   ],
   "source": [
    "base_url = \"http://localhost:8090\"\n",
    "client = PocketBaseClient(base_url)\n",
    "\n",
    "# Authenticate\n",
    "try:\n",
    "    auth_data = client.authenticate()\n",
    "    print(\"Authentication successful!\")\n",
    "except Exception as e:\n",
    "    print(f\"Authentication failed: {e}\")\n"
   ]
  },
  {
   "cell_type": "code",
   "execution_count": 29,
   "id": "5ea2eb43",
   "metadata": {},
   "outputs": [
    {
     "name": "stdout",
     "output_type": "stream",
     "text": [
      "Found 2881 matching records\n"
     ]
    }
   ],
   "source": [
    "# Fetch records using the filter\n",
    "try:\n",
    "    records = client.fetch_records(FILTER_QUERY)\n",
    "    print(f\"Found {len(records)} matching records\")\n",
    "except Exception as e:\n",
    "    print(f\"Error fetching records: {e}\")"
   ]
  },
  {
   "cell_type": "code",
   "execution_count": 30,
   "id": "992c5e16",
   "metadata": {},
   "outputs": [
    {
     "data": {
      "text/plain": [
       "{'app': 'iTerm2',\n",
       " 'begin_date': '2024-08-05 10:07:13.000Z',\n",
       " 'collectionId': 'z60l06ij6ugtt49',\n",
       " 'collectionName': 'track_items',\n",
       " 'created': '2024-08-19 12:14:46.683Z',\n",
       " 'device': 'ldg3766qc9ydkl8',\n",
       " 'end_date': '2024-08-05 10:07:13.000Z',\n",
       " 'id': '74vv7p97xyc034e',\n",
       " 'task_name': 'aw-watcher-window_shasharma-c13130',\n",
       " 'title': 'tmux',\n",
       " 'track_id': 15439,\n",
       " 'updated': '2024-08-19 12:14:46.683Z',\n",
       " 'user': '6xc5wobufh1p7ek'}"
      ]
     },
     "execution_count": 30,
     "metadata": {},
     "output_type": "execute_result"
    }
   ],
   "source": [
    "records[0]"
   ]
  },
  {
   "cell_type": "code",
   "execution_count": 41,
   "id": "cfe290f9",
   "metadata": {},
   "outputs": [
    {
     "name": "stdout",
     "output_type": "stream",
     "text": [
      "{'total_seconds': 0.0, 'minutes': 0.0, 'hours': 0.0, 'formatted': '0:00:00', 'is_negative': False}\n"
     ]
    }
   ],
   "source": [
    "from datetime import datetime\n",
    "from typing import List, Dict\n",
    "\n",
    "def calculate_durations(records: List[Dict]) -> List[Dict]:\n",
    "    \"\"\"\n",
    "    Calculate duration for each record between begin_date and end_date\n",
    "    \n",
    "    Args:\n",
    "        records (List[Dict]): List of records containing begin_date and end_date\n",
    "        \n",
    "    Returns:\n",
    "        List[Dict]: Same records with added duration information\n",
    "    \"\"\"\n",
    "    for record in records:\n",
    "        try:\n",
    "            begin = datetime.fromisoformat(record['begin_date'].replace('Z', '+00:00'))\n",
    "            end = datetime.fromisoformat(record['end_date'].replace('Z', '+00:00'))\n",
    "            \n",
    "            duration = end - begin\n",
    "            \n",
    "            record['duration'] = {\n",
    "                'total_seconds': duration.total_seconds(),\n",
    "                'minutes': duration.total_seconds() / 60,\n",
    "                'hours': duration.total_seconds() / 3600,\n",
    "                'formatted': str(duration),\n",
    "                'is_negative': duration.total_seconds() < 0\n",
    "            }\n",
    "            \n",
    "        except (KeyError, ValueError) as e:\n",
    "            record['duration'] = {\n",
    "                'error': f\"Could not calculate duration: {str(e)}\",\n",
    "                'total_seconds': None,\n",
    "                'minutes': None,\n",
    "                'hours': None,\n",
    "                'formatted': None,\n",
    "                'is_negative': None\n",
    "            }\n",
    "    \n",
    "    return records\n",
    "\n",
    "records_with_duration = calculate_durations(records)\n",
    "print(records_with_duration[0]['duration'])"
   ]
  },
  {
   "cell_type": "code",
   "execution_count": 42,
   "id": "97c85960",
   "metadata": {},
   "outputs": [],
   "source": [
    "total_duration = 0\n",
    "for i in records_with_duration:\n",
    "    total_duration += i['duration']['total_seconds']"
   ]
  },
  {
   "cell_type": "code",
   "execution_count": 43,
   "id": "25217969",
   "metadata": {},
   "outputs": [
    {
     "data": {
      "text/plain": [
       "30.768055555555556"
      ]
     },
     "execution_count": 43,
     "metadata": {},
     "output_type": "execute_result"
    }
   ],
   "source": [
    "total_duration / 60 / 60"
   ]
  },
  {
   "cell_type": "code",
   "execution_count": 44,
   "id": "4693040c",
   "metadata": {},
   "outputs": [
    {
     "name": "stdout",
     "output_type": "stream",
     "text": [
      "2024-08-18: 93.17 minutes\n",
      "2024-08-17: 227.47 minutes\n",
      "2024-08-16: 84.87 minutes\n",
      "2024-08-15: 91.62 minutes\n",
      "2024-08-14: 182.38 minutes\n",
      "2024-08-13: 3.08 minutes\n",
      "2024-08-12: 51.1 minutes\n",
      "2024-08-11: 251.5 minutes\n",
      "2024-08-10: 233.12 minutes\n",
      "2024-08-09: 67.88 minutes\n",
      "2024-08-08: 265.03 minutes\n",
      "2024-08-07: 231.15 minutes\n",
      "2024-08-06: 14.9 minutes\n",
      "2024-08-05: 48.82 minutes\n"
     ]
    }
   ],
   "source": [
    "from datetime import datetime\n",
    "from typing import List, Dict\n",
    "from collections import defaultdict\n",
    "\n",
    "def aggregate_time_by_date(records: List[Dict]) -> Dict[str, Dict]:\n",
    "    \"\"\"\n",
    "    Aggregate total time spent per date from records\n",
    "    \n",
    "    Args:\n",
    "        records (List[Dict]): List of records with begin_date and duration info\n",
    "        \n",
    "    Returns:\n",
    "        Dict[str, Dict]: Dictionary with date as key and time statistics as value\n",
    "    \"\"\"\n",
    "    daily_stats = defaultdict(lambda: {\n",
    "        'total_seconds': 0,\n",
    "        'total_minutes': 0,\n",
    "        'total_hours': 0,\n",
    "        'records_count': 0,\n",
    "        'apps': defaultdict(int),  # Track time per app\n",
    "        'titles': []  # Track unique titles\n",
    "    })\n",
    "    \n",
    "    for record in records:\n",
    "        # Get the date part from begin_date\n",
    "        date_str = datetime.fromisoformat(record['begin_date'].replace('Z', '+00:00')).strftime('%Y-%m-%d')\n",
    "\n",
    "        # Calculate duration in seconds\n",
    "        begin = datetime.fromisoformat(record['begin_date'].replace('Z', '+00:00'))\n",
    "        end = datetime.fromisoformat(record['end_date'].replace('Z', '+00:00'))\n",
    "        duration = (end - begin).total_seconds()\n",
    "\n",
    "        # Skip negative durations\n",
    "        if duration < 0:\n",
    "            continue\n",
    "\n",
    "        # Update statistics\n",
    "        daily_stats[date_str]['total_seconds'] += duration\n",
    "        daily_stats[date_str]['total_minutes'] += duration / 60\n",
    "        daily_stats[date_str]['total_hours'] += duration / 3600\n",
    "        daily_stats[date_str]['records_count'] += 1\n",
    "\n",
    "        # Track time per app\n",
    "        app_name = record.get('app', 'Unknown')\n",
    "        daily_stats[date_str]['apps'][app_name] += duration\n",
    "\n",
    "        # Track unique titles\n",
    "        title = record.get('title')\n",
    "        if title and title not in daily_stats[date_str]['titles']:\n",
    "            daily_stats[date_str]['titles'].append(title)\n",
    "    \n",
    "    # Convert defaultdict to regular dict and format numbers\n",
    "    formatted_stats = {}\n",
    "    for date, stats in daily_stats.items():\n",
    "        formatted_stats[date] = {\n",
    "            'total_time': {\n",
    "                'hours': round(stats['total_hours'], 2),\n",
    "                'minutes': round(stats['total_minutes'], 2),\n",
    "                'seconds': round(stats['total_seconds'], 2)\n",
    "            },\n",
    "            'records_count': stats['records_count'],\n",
    "            'apps': {\n",
    "                app: {\n",
    "                    'hours': round(seconds / 3600, 2),\n",
    "                    'minutes': round(seconds / 60, 2),\n",
    "                    'seconds': round(seconds, 2),\n",
    "                    'percentage': round((seconds / stats['total_seconds']) * 100, 2)\n",
    "                }\n",
    "                for app, seconds in stats['apps'].items()\n",
    "            },\n",
    "            'unique_titles_count': len(stats['titles']),\n",
    "            'titles': stats['titles']\n",
    "        }\n",
    "    \n",
    "    return dict(sorted(formatted_stats.items(), reverse=True))  # Sort by date descending\n",
    "\n",
    "daily_summary = aggregate_time_by_date(records)\n",
    "for date, stats in daily_summary.items():\n",
    "    print(f\"{date}: {stats['total_time']['minutes']} minutes\")"
   ]
  },
  {
   "cell_type": "code",
   "execution_count": 46,
   "id": "b0113d48",
   "metadata": {},
   "outputs": [],
   "source": [
    "date_hours = {}\n",
    "for i in ddd2.keys():\n",
    "    date_hours[i] = ddd2[i]['total_time']['hours']"
   ]
  },
  {
   "cell_type": "code",
   "execution_count": 58,
   "id": "da66d719",
   "metadata": {},
   "outputs": [
    {
     "name": "stdout",
     "output_type": "stream",
     "text": [
      "{{< time-mountain data=\"[{\\\"date\\\": \\\"05 Aug\\\", \\\"hours\\\": 0.81, \\\"position\\\": 10}, {\\\"date\\\": \\\"06 Aug\\\", \\\"hours\\\": 0.25, \\\"position\\\": 16}, {\\\"date\\\": \\\"07 Aug\\\", \\\"hours\\\": 3.85, \\\"position\\\": 22}, {\\\"date\\\": \\\"08 Aug\\\", \\\"hours\\\": 4.42, \\\"position\\\": 28}, {\\\"date\\\": \\\"09 Aug\\\", \\\"hours\\\": 1.13, \\\"position\\\": 34}, {\\\"date\\\": \\\"10 Aug\\\", \\\"hours\\\": 3.89, \\\"position\\\": 40}, {\\\"date\\\": \\\"11 Aug\\\", \\\"hours\\\": 4.19, \\\"position\\\": 46}, {\\\"date\\\": \\\"12 Aug\\\", \\\"hours\\\": 0.85, \\\"position\\\": 52}, {\\\"date\\\": \\\"13 Aug\\\", \\\"hours\\\": 0.05, \\\"position\\\": 58}, {\\\"date\\\": \\\"14 Aug\\\", \\\"hours\\\": 3.04, \\\"position\\\": 64}, {\\\"date\\\": \\\"15 Aug\\\", \\\"hours\\\": 1.53, \\\"position\\\": 70}, {\\\"date\\\": \\\"16 Aug\\\", \\\"hours\\\": 1.41, \\\"position\\\": 76}, {\\\"date\\\": \\\"17 Aug\\\", \\\"hours\\\": 3.79, \\\"position\\\": 82}, {\\\"date\\\": \\\"18 Aug\\\", \\\"hours\\\": 1.55, \\\"position\\\": 88}]\" >}}\n"
     ]
    }
   ],
   "source": [
    "import json\n",
    "from datetime import datetime\n",
    "\n",
    "def format_time_mountain_data(date_hours_dict, base_position=10, position_spread=6):\n",
    "    \"\"\"\n",
    "    Convert date-hours dictionary to time-mountain shortcode format.\n",
    "    \n",
    "    Args:\n",
    "        date_hours_dict: Dictionary with dates as keys and hours as values\n",
    "        base_position: Starting position for first mountain\n",
    "        position_spread: Spread between mountains for overlap\n",
    "    \n",
    "    Returns:\n",
    "        Formatted string ready to use in Hugo shortcode\n",
    "    \"\"\"\n",
    "    # Convert dates to datetime objects and sort in reverse order (most recent first)\n",
    "    sorted_dates = sorted(date_hours_dict.items(), \n",
    "                         key=lambda x: datetime.strptime(x[0], '%Y-%m-%d'),\n",
    "                         reverse=False)\n",
    "        \n",
    "    # Create the data list\n",
    "    mountain_data = []\n",
    "    for idx, (date_str, hours) in enumerate(sorted_dates):\n",
    "        # Convert date string to datetime\n",
    "        date = datetime.strptime(date_str, '%Y-%m-%d')\n",
    "        \n",
    "        # Format date as short day name\n",
    "        day_name = date.strftime('%d %b')\n",
    "        \n",
    "        # Calculate position with some randomization for overlap\n",
    "        # Earlier dates will have higher positions\n",
    "        position = base_position + (idx * position_spread)\n",
    "        \n",
    "        # Only include days with non-zero hours\n",
    "        if hours > 0:\n",
    "            mountain_data.append({\n",
    "                \"date\": day_name,\n",
    "                \"hours\": round(hours, 2),\n",
    "                \"position\": min(position, 90)  # Cap position to avoid overflow\n",
    "            })\n",
    "    \n",
    "    # Convert to JSON string with escaped quotes\n",
    "    json_str = json.dumps(mountain_data)\n",
    "    \n",
    "    escaped_json = json_str.replace('\"', '\\\\\"')\n",
    "    \n",
    "    # Format for Hugo shortcode\n",
    "    hugo_shortcode = f'{{{{< time-mountain data=\"{escaped_json}\" >}}}}'\n",
    "    \n",
    "    return hugo_shortcode\n",
    "\n",
    "# Generate the shortcode\n",
    "shortcode = format_time_mountain_data(date_hours)\n",
    "print(shortcode)"
   ]
  }
 ],
 "metadata": {
  "kernelspec": {
   "display_name": "Python 3 (ipykernel)",
   "language": "python",
   "name": "python3"
  },
  "language_info": {
   "codemirror_mode": {
    "name": "ipython",
    "version": 3
   },
   "file_extension": ".py",
   "mimetype": "text/x-python",
   "name": "python",
   "nbconvert_exporter": "python",
   "pygments_lexer": "ipython3",
   "version": "3.11.6"
  }
 },
 "nbformat": 4,
 "nbformat_minor": 5
}
